{
 "metadata": {
  "language_info": {
   "codemirror_mode": {
    "name": "ipython",
    "version": 3
   },
   "file_extension": ".py",
   "mimetype": "text/x-python",
   "name": "python",
   "nbconvert_exporter": "python",
   "pygments_lexer": "ipython3",
   "version": "3.9.0-final"
  },
  "orig_nbformat": 2,
  "kernelspec": {
   "name": "python3",
   "display_name": "Python 3.9.0 64-bit",
   "metadata": {
    "interpreter": {
     "hash": "63fd5069d213b44bf678585dea6b12cceca9941eaf7f819626cde1f2670de90d"
    }
   }
  }
 },
 "nbformat": 4,
 "nbformat_minor": 2,
 "cells": [
  {
   "source": [
    "<h1 align=\"center\">HOMEWORK: FINANCIAL STATEMENT ANALYSIS</h1>"
   ],
   "cell_type": "markdown",
   "metadata": {}
  },
  {
   "source": [
    "<p><h3>Scenario:</h3>You are a Data Scientist working for a consulting firm. One of your collegues from the Auditing department has asked you to help them assess the financial statement of organisation X.</p>"
   ],
   "cell_type": "markdown",
   "metadata": {}
  },
  {
   "source": [
    "<h3>You have been supplied with two lists of data:</h3>\n",
    "<ul>\n",
    "<li>Monthly revenue</li>\n",
    "<li>Monthly expenses</li>\n",
    "</ul>"
   ],
   "cell_type": "markdown",
   "metadata": {}
  },
  {
   "source": [
    "<h3>For the financial year in question. Your task is to calculate the following financial metrics:</h3>\n",
    "<ul>\n",
    "<li>Profit for each month</li>\n",
    "<li>Profit after tax for each month (the tax rate is 30%)</li>\n",
    "<li>Profit margin for each month - equals to profit after tax divided by revenue</li>\n",
    "<li>Good months - Where the profit after tax was greater than the mean for the year</li>\n",
    "<li>Bad months - Where the profit after tax was less than the mean for the year</li>\n",
    "<li>The best month - Where the profit after tax was max for the year</li>\n",
    "<li>The worst month - Where the profit after tax was min for the year</li>\n",
    "</ul>"
   ],
   "cell_type": "markdown",
   "metadata": {}
  },
  {
   "source": [
    "<h3>All results need to be presented as lists.</h3>\n",
    "<hr>\n",
    "\n",
    "<h4>Results for the profit margin ratio need to be presented in Units of % with no decimal points.</h4>\n",
    "\n",
    "<h4>Note: Your colleague has warned you that it is okay for tax for any given month to be negative (in accounting terms, negative tax translates into a deferred tax asset).</h4>"
   ],
   "cell_type": "markdown",
   "metadata": {}
  },
  {
   "source": [
    "<h3>Imports</h3>"
   ],
   "cell_type": "markdown",
   "metadata": {}
  },
  {
   "source": [
    "import numpy as np"
   ],
   "cell_type": "code",
   "metadata": {},
   "execution_count": 4,
   "outputs": []
  },
  {
   "source": [
    "<h3>Here is the data:</h3>"
   ],
   "cell_type": "markdown",
   "metadata": {}
  },
  {
   "cell_type": "code",
   "execution_count": 5,
   "metadata": {},
   "outputs": [],
   "source": [
    "revenue_year = [14574.49, 7606.46, 8611.41, 9175.41, 8058.65, 8105.44, 11496.28, 9766.09, 10305.32, 14379.96, 10713.97, 15433.50]\n",
    "expenses_year = [12051.82, 5695.07, 12319.20, 12089.72, 8658.57, 840.20, 3285.73, 5821.12, 6976.93, 16618.61, 10054.37, 3803.96]"
   ]
  },
  {
   "source": [
    "<h3>Good luck!!!</h3>"
   ],
   "cell_type": "markdown",
   "metadata": {}
  },
  {
   "cell_type": "code",
   "execution_count": 6,
   "metadata": {},
   "outputs": [],
   "source": [
    "months = ['January', 'February', 'March', 'Abril', 'May', 'June', 'July', 'August', 'September', 'October', 'November', 'December']"
   ]
  },
  {
   "source": [
    "<h3>1. Profit for each month</h3>"
   ],
   "cell_type": "markdown",
   "metadata": {}
  },
  {
   "cell_type": "code",
   "execution_count": 7,
   "metadata": {},
   "outputs": [],
   "source": [
    "profit = [revenue_year[index] - expenses_year[index] for (index, month) in enumerate(months)]"
   ]
  },
  {
   "cell_type": "code",
   "execution_count": 8,
   "metadata": {},
   "outputs": [
    {
     "output_type": "stream",
     "name": "stdout",
     "text": [
      "January: $ 2522.67\nFebruary: $ 1911.39\nMarch: $ -3707.79\nAbril: $ -2914.31\nMay: $ -599.92\nJune: $ 7265.24\nJuly: $ 8210.55\nAugust: $ 3944.97\nSeptember: $ 3328.39\nOctober: $ -2238.65\nNovember: $ 659.6\nDecember: $ 11629.54\n"
     ]
    }
   ],
   "source": [
    "for (index ,value) in enumerate(profit):\n",
    "        print(f'{months[index]}: $ {round(value, 2)}')"
   ]
  },
  {
   "source": [
    "<h3>2. Profit after tax for each month (the tax rate is 30%)</h3>"
   ],
   "cell_type": "markdown",
   "metadata": {}
  },
  {
   "cell_type": "code",
   "execution_count": 15,
   "metadata": {},
   "outputs": [],
   "source": [
    "profit_with_tax = [profit[index] - (profit[index] * 0.3) for (index, month) in enumerate(months)]"
   ]
  },
  {
   "cell_type": "code",
   "execution_count": 16,
   "metadata": {},
   "outputs": [
    {
     "output_type": "stream",
     "name": "stdout",
     "text": [
      "January: $ 1765.87\nFebruary: $ 1337.97\nMarch: $ -2595.45\nAbril: $ -2040.02\nMay: $ -419.94\nJune: $ 5085.67\nJuly: $ 5747.39\nAugust: $ 2761.48\nSeptember: $ 2329.87\nOctober: $ -1567.06\nNovember: $ 461.72\nDecember: $ 8140.68\n"
     ]
    }
   ],
   "source": [
    "for (index, value) in enumerate(profit_with_tax):\n",
    "        print(f'{months[index]}: $ {round(value, 2)}')"
   ]
  },
  {
   "source": [
    "<h3>3. Profit margin for each month - equals to profit after tax divided by revenue</h3>"
   ],
   "cell_type": "markdown",
   "metadata": {}
  },
  {
   "cell_type": "code",
   "execution_count": 11,
   "metadata": {},
   "outputs": [],
   "source": [
    "profit_margin = [(profit_with_tax[index] / revenue_year[index])*100 for (index, month) in enumerate(months)]"
   ]
  },
  {
   "cell_type": "code",
   "execution_count": 12,
   "metadata": {},
   "outputs": [
    {
     "output_type": "stream",
     "name": "stdout",
     "text": [
      "January: 12%\nFebruary: 18%\nMarch: -30%\nAbril: -22%\nMay: -5%\nJune: 63%\nJuly: 50%\nAugust: 28%\nSeptember: 23%\nOctober: -11%\nNovember: 4%\nDecember: 53%\n"
     ]
    }
   ],
   "source": [
    "for (index, value) in enumerate(profit_margin):\n",
    "    print(f'{months[index]}: {round(value)}%')"
   ]
  },
  {
   "source": [
    "<h3>4. Good months - Where the profit after tax was greater than the mean for the year</h3>"
   ],
   "cell_type": "markdown",
   "metadata": {}
  },
  {
   "cell_type": "code",
   "execution_count": 13,
   "metadata": {},
   "outputs": [],
   "source": [
    "year_mean = round(np.mean(profit_with_tax), 2)"
   ]
  },
  {
   "cell_type": "code",
   "execution_count": 14,
   "metadata": {},
   "outputs": [
    {
     "output_type": "error",
     "ename": "NameError",
     "evalue": "name 'mean' is not defined",
     "traceback": [
      "\u001b[1;31m---------------------------------------------------------------------------\u001b[0m",
      "\u001b[1;31mNameError\u001b[0m                                 Traceback (most recent call last)",
      "\u001b[1;32m<ipython-input-14-7d08852e19ce>\u001b[0m in \u001b[0;36m<module>\u001b[1;34m\u001b[0m\n\u001b[0;32m      1\u001b[0m \u001b[1;32mfor\u001b[0m \u001b[1;33m(\u001b[0m\u001b[0mindex\u001b[0m\u001b[1;33m,\u001b[0m \u001b[0mvalue\u001b[0m\u001b[1;33m)\u001b[0m \u001b[1;32min\u001b[0m \u001b[0menumerate\u001b[0m\u001b[1;33m(\u001b[0m\u001b[0mprofit_with_tax\u001b[0m\u001b[1;33m)\u001b[0m\u001b[1;33m:\u001b[0m\u001b[1;33m\u001b[0m\u001b[1;33m\u001b[0m\u001b[0m\n\u001b[1;32m----> 2\u001b[1;33m     \u001b[1;32mif\u001b[0m \u001b[0mvalue\u001b[0m \u001b[1;33m>\u001b[0m \u001b[0mmean\u001b[0m\u001b[1;33m:\u001b[0m\u001b[1;33m\u001b[0m\u001b[1;33m\u001b[0m\u001b[0m\n\u001b[0m\u001b[0;32m      3\u001b[0m         \u001b[0mprint\u001b[0m\u001b[1;33m(\u001b[0m\u001b[1;34mf'{months[index]}: ${round(value, 2)}'\u001b[0m\u001b[1;33m)\u001b[0m\u001b[1;33m\u001b[0m\u001b[1;33m\u001b[0m\u001b[0m\n",
      "\u001b[1;31mNameError\u001b[0m: name 'mean' is not defined"
     ]
    }
   ],
   "source": [
    "for (index, value) in enumerate(profit_with_tax):\n",
    "    if value > year_mean:\n",
    "        print(f'{months[index]}: ${round(value, 2)}')"
   ]
  },
  {
   "source": [
    "<h3>5. Bad months - Where the profit after tax was less than the mean for the year</h3>"
   ],
   "cell_type": "markdown",
   "metadata": {}
  },
  {
   "cell_type": "code",
   "execution_count": 99,
   "metadata": {},
   "outputs": [
    {
     "output_type": "stream",
     "name": "stdout",
     "text": [
      "February: $1337.97\nMarch: $-2595.45\nAbril: $-2040.02\nMay: $-419.94\nOctober: $-1567.06\nNovember: $461.72\n"
     ]
    }
   ],
   "source": [
    "for (index, value) in enumerate(profit_with_tax):\n",
    "    if value < year_mean:\n",
    "        print(f'{months[index]}: ${round(value, 2)}')"
   ]
  },
  {
   "source": [
    "<h3>6. The best month - Where the profit after tax was max for the year</h3>"
   ],
   "cell_type": "markdown",
   "metadata": {}
  },
  {
   "cell_type": "code",
   "execution_count": 100,
   "metadata": {},
   "outputs": [],
   "source": [
    "year_max = round(np.max(profit_with_tax), 2)"
   ]
  },
  {
   "cell_type": "code",
   "execution_count": 101,
   "metadata": {},
   "outputs": [
    {
     "output_type": "execute_result",
     "data": {
      "text/plain": [
       "8140.68"
      ]
     },
     "metadata": {},
     "execution_count": 101
    }
   ],
   "source": [
    "year_max"
   ]
  },
  {
   "source": [
    "<h3>7. The worst month - Where the profit after tax was min for the year</h3>"
   ],
   "cell_type": "markdown",
   "metadata": {}
  },
  {
   "cell_type": "code",
   "execution_count": 102,
   "metadata": {},
   "outputs": [],
   "source": [
    "year_min = round(np.min(profit_with_tax), 2)"
   ]
  },
  {
   "cell_type": "code",
   "execution_count": 103,
   "metadata": {},
   "outputs": [
    {
     "output_type": "execute_result",
     "data": {
      "text/plain": [
       "-2595.45"
      ]
     },
     "metadata": {},
     "execution_count": 103
    }
   ],
   "source": [
    "year_min"
   ]
  }
 ]
}