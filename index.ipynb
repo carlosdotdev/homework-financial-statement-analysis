{
 "metadata": {
  "language_info": {
   "codemirror_mode": {
    "name": "ipython",
    "version": 3
   },
   "file_extension": ".py",
   "mimetype": "text/x-python",
   "name": "python",
   "nbconvert_exporter": "python",
   "pygments_lexer": "ipython3",
   "version": "3.9.0-final"
  },
  "orig_nbformat": 2,
  "kernelspec": {
   "name": "python39064bit69d227b7fa174857bd5ac830c0d6354d",
   "display_name": "Python 3.9.0 64-bit",
   "language": "python"
  }
 },
 "nbformat": 4,
 "nbformat_minor": 2,
 "cells": [
  {
   "source": [
    "<h1 align=\"center\">HOMEWORK: FINANCIAL STATEMENT ANALYSIS</h1>"
   ],
   "cell_type": "markdown",
   "metadata": {}
  },
  {
   "source": [
    "<p><h3>Scenario:</h3>You are a Data Scientist working for a consulting firm. One of your collegues from the Auditing department has asked you to help them assess the financial statement of organisation X.</p>"
   ],
   "cell_type": "markdown",
   "metadata": {}
  },
  {
   "source": [
    "<h3>You have been supplied with two lists of data:</h3>\n",
    "<ul>\n",
    "<li>Monthly revenue</li>\n",
    "<li>Monthly expenses</li>\n",
    "</ul>"
   ],
   "cell_type": "markdown",
   "metadata": {}
  },
  {
   "source": [
    "<h3>For the financial year in question. Your task is to calculate the following financial metrics:</h3>\n",
    "<ul>\n",
    "<li>Profit for each month</li>\n",
    "<li>Profit after tax for each month (the tax rate is 30%)</li>\n",
    "<li>Profit margin for each month - equals to profit after tax divided by revenue</li>\n",
    "<li>Good months - Where the profit after tax was greater than the mean for the year</li>\n",
    "<li>Bad months - Where the profit after tax was less than the mean for the year</li>\n",
    "<li>The best month - Where the profit after tax was max for the year</li>\n",
    "<li>The worst month - Where the profit after tax was min for the year</li>\n",
    "</ul>"
   ],
   "cell_type": "markdown",
   "metadata": {}
  },
  {
   "source": [
    "<h3>Here is the data:</h3>"
   ],
   "cell_type": "markdown",
   "metadata": {}
  },
  {
   "cell_type": "code",
   "execution_count": 1,
   "metadata": {},
   "outputs": [],
   "source": [
    "revenue_year = [14574.49, 7606.46, 8611.41, 9175.41, 8058.65, 8105.44, 11496.28, 9766.09, 10305.32, 14379.96, 10713.97, 15433.50]\n",
    "expenses_year = [12051.82, 5695.07, 12319.20, 12089.72, 8658.57, 840.20, 3285.73, 5821.12, 6976.93, 16618.61, 10054.37, 3803.96]"
   ]
  },
  {
   "source": [
    "<h3>Good luck!!!</h3>"
   ],
   "cell_type": "markdown",
   "metadata": {}
  },
  {
   "cell_type": "code",
   "execution_count": null,
   "metadata": {},
   "outputs": [],
   "source": []
  }
 ]
}